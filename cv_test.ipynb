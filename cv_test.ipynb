{
 "cells": [
  {
   "cell_type": "code",
   "execution_count": 14,
   "id": "knowing-sender",
   "metadata": {},
   "outputs": [],
   "source": [
    "import cv2\n",
    "cap = cv2.VideoCapture(1)\n",
    "# 3은 가로 4는 세로 길이 \n",
    "cap.set(3, 720)\n",
    "cap.set(4, 1080)\n",
    "\n",
    "while True:\n",
    "    ret, frame = cap.read()\n",
    "    cv2.imshow('test', frame)\n",
    "\n",
    "    k = cv2.waitKey(1)\n",
    "    if k == 27:\n",
    "        break\n",
    "\n",
    "cap.release()\n",
    "\n",
    "cv2.destroyAllWindows()"
   ]
  },
  {
   "cell_type": "code",
   "execution_count": 13,
   "id": "hairy-cemetery",
   "metadata": {},
   "outputs": [],
   "source": [
    "# 동영상 저장\n",
    "import cv2\n",
    "\n",
    "cap = cv2.VideoCapture(1)\n",
    "cap.set(3, 720)\n",
    "cap.set(4, 1080)\n",
    "fc = 20.0\n",
    "codec = cv2.VideoWriter_fourcc('D', 'I', 'V', 'X')\n",
    "out = cv2.VideoWriter('./cv_test/cam_test.avi', codec, fc, (int(cap.get(3)), int(cap.get(4))))\n",
    "while True:\n",
    "    ret, frame = cap.read()\n",
    "    cv2.imshow('test', frame)\n",
    "    out.write(frame)\n",
    "    k = cv2.waitKey(1)\n",
    "    if k == 27:\n",
    "        break\n",
    "\n",
    "cap.release()\n",
    "\n",
    "cv2.destroyAllWindows()"
   ]
  },
  {
   "cell_type": "code",
   "execution_count": null,
   "id": "fatal-copying",
   "metadata": {},
   "outputs": [],
   "source": []
  }
 ],
 "metadata": {
  "kernelspec": {
   "display_name": "Python 3",
   "language": "python",
   "name": "python3"
  },
  "language_info": {
   "codemirror_mode": {
    "name": "ipython",
    "version": 3
   },
   "file_extension": ".py",
   "mimetype": "text/x-python",
   "name": "python",
   "nbconvert_exporter": "python",
   "pygments_lexer": "ipython3",
   "version": "3.7.0"
  }
 },
 "nbformat": 4,
 "nbformat_minor": 5
}
